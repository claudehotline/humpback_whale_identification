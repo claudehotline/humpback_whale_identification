{
 "cells": [
  {
   "cell_type": "code",
   "execution_count": 2,
   "metadata": {},
   "outputs": [],
   "source": [
    "import torch.nn as nn\n",
    "import torch.nn.functional as F\n",
    "import torch.optim as optim"
   ]
  },
  {
   "cell_type": "code",
   "execution_count": 3,
   "metadata": {},
   "outputs": [],
   "source": [
    "def conv9x9(inchannel, outchannel, stride=1):\n",
    "    \"\"\"9x9 convolution with padding\"\"\"\n",
    "    return nn.Conv2d(inchannel, outchannel, kernel_size=9, stride=stride, padding=1, bias=True)\n",
    "\n",
    "def conv3x3(inchannel, outchannel, stride=1):\n",
    "    \"\"\"9x9 convolution with padding\"\"\"\n",
    "    return nn.Conv2d(inchannel, outchannel, kernel_size=3, stride=stride, padding=1, bias=True)\n",
    "\n",
    "def conv2x2(inchannel, outchannel, stride=1):\n",
    "    \"\"\"9x9 convolution with padding\"\"\"\n",
    "    return nn.Conv2d(inchannel, outchannel, kernel_size=2, stride=stride, padding=1, bias=True)"
   ]
  },
  {
   "cell_type": "code",
   "execution_count": 4,
   "metadata": {},
   "outputs": [],
   "source": [
    "class BasicBlock(nn.Module):\n",
    "    def __init__(self, inchannel, outchannel, stride=1):\n",
    "        super(BasicBlock, self).__init__()\n",
    "        self.conv1 = conv2x2(inchannel, outchannel, stride=2)\n",
    "        self.conv2 = conv3x3(outchannel, outchannel, stride)\n",
    "        self.conv3 = conv3x3(outchannel, outchannel, stride)\n",
    "        self.relu = nn.ReLU(inplace=True)\n",
    "        self.bn = nn.BatchNorm2d(outchannel)\n",
    "        \n",
    "    def forward(self, x):\n",
    "        out = self.conv1(x)\n",
    "        out = self.relu(x)\n",
    "        \n",
    "        out = self.conv2(x)\n",
    "        out = self.relu(x)\n",
    "        \n",
    "        out = self.conv3(x)\n",
    "        out = self.relu(x)\n",
    "        \n",
    "        out = self.bn(x)\n",
    "        \n",
    "        return out"
   ]
  },
  {
   "cell_type": "code",
   "execution_count": 10,
   "metadata": {},
   "outputs": [],
   "source": [
    "class BBModel(nn.Module):\n",
    "    def __init__(self, block, blocks):\n",
    "        super(BBModel, self).__init__()\n",
    "        \n",
    "        self.inchannel = 64\n",
    "        \n",
    "        self.conv1 = conv9x9(3, 64)       \n",
    "        self.conv2 = conv3x3(64, 64)\n",
    "        self.relu = nn.ReLU(inplace=True)\n",
    "        self.bn = nn.BatchNorm2d(64)\n",
    "        \n",
    "        self.layer = self._make_layer(block, 64, blocks)\n",
    "        \n",
    "        self.pool_h = nn.MaxPool2d((1, 4))   \n",
    "        self.pool_v = nn.MaxPool2d((4, 1))\n",
    "        \n",
    "        self.fc_h = nn.Linear(256, 16)\n",
    "        self.fc_v = nn.Linear(256, 16)\n",
    "        \n",
    "        self.fc = nn.Linear(32,4)\n",
    "        \n",
    "        \n",
    "    def _make_layer(self, block, outchannel, blocks, stride=1):\n",
    "        layers = []\n",
    "        for _ in range(blocks):\n",
    "            layers.append(block(self.inchannel, outchannel))\n",
    "            \n",
    "        return nn.Sequential(*layers)\n",
    "    \n",
    "    def forward(self, x):\n",
    "        out = self.conv1(x)\n",
    "        out = self.relu(x)\n",
    "        \n",
    "        out = self.conv2(x)\n",
    "        out = self.relu(x)\n",
    "        out = self.bn(x)\n",
    "        \n",
    "        out = self.layer(x)\n",
    "        \n",
    "        h = self.pool_h(out)\n",
    "        h = torch.flatten(h)\n",
    "        h = self.fc_h(h)\n",
    "        h = self.relu(h)\n",
    "        \n",
    "        v = self.pool_v(out)\n",
    "        v = torch.flatten(v)\n",
    "        v = self.fc_v(v)\n",
    "        v = self.relu(v)\n",
    "        \n",
    "        out = torch.concate((h, v), -1)\n",
    "        out = self.fc(out)\n",
    "        \n",
    "        return out"
   ]
  },
  {
   "cell_type": "code",
   "execution_count": 11,
   "metadata": {},
   "outputs": [
    {
     "data": {
      "text/plain": [
       "BBModel(\n",
       "  (conv1): Conv2d(3, 64, kernel_size=(9, 9), stride=(1, 1), padding=(1, 1))\n",
       "  (conv2): Conv2d(64, 64, kernel_size=(3, 3), stride=(1, 1), padding=(1, 1))\n",
       "  (relu): ReLU(inplace)\n",
       "  (bn): BatchNorm2d(64, eps=1e-05, momentum=0.1, affine=True, track_running_stats=True)\n",
       "  (layer): Sequential(\n",
       "    (0): BasicBlock(\n",
       "      (conv1): Conv2d(64, 64, kernel_size=(2, 2), stride=(2, 2), padding=(1, 1))\n",
       "      (conv2): Conv2d(64, 64, kernel_size=(3, 3), stride=(1, 1), padding=(1, 1))\n",
       "      (conv3): Conv2d(64, 64, kernel_size=(3, 3), stride=(1, 1), padding=(1, 1))\n",
       "      (relu): ReLU(inplace)\n",
       "      (bn): BatchNorm2d(64, eps=1e-05, momentum=0.1, affine=True, track_running_stats=True)\n",
       "    )\n",
       "    (1): BasicBlock(\n",
       "      (conv1): Conv2d(64, 64, kernel_size=(2, 2), stride=(2, 2), padding=(1, 1))\n",
       "      (conv2): Conv2d(64, 64, kernel_size=(3, 3), stride=(1, 1), padding=(1, 1))\n",
       "      (conv3): Conv2d(64, 64, kernel_size=(3, 3), stride=(1, 1), padding=(1, 1))\n",
       "      (relu): ReLU(inplace)\n",
       "      (bn): BatchNorm2d(64, eps=1e-05, momentum=0.1, affine=True, track_running_stats=True)\n",
       "    )\n",
       "    (2): BasicBlock(\n",
       "      (conv1): Conv2d(64, 64, kernel_size=(2, 2), stride=(2, 2), padding=(1, 1))\n",
       "      (conv2): Conv2d(64, 64, kernel_size=(3, 3), stride=(1, 1), padding=(1, 1))\n",
       "      (conv3): Conv2d(64, 64, kernel_size=(3, 3), stride=(1, 1), padding=(1, 1))\n",
       "      (relu): ReLU(inplace)\n",
       "      (bn): BatchNorm2d(64, eps=1e-05, momentum=0.1, affine=True, track_running_stats=True)\n",
       "    )\n",
       "    (3): BasicBlock(\n",
       "      (conv1): Conv2d(64, 64, kernel_size=(2, 2), stride=(2, 2), padding=(1, 1))\n",
       "      (conv2): Conv2d(64, 64, kernel_size=(3, 3), stride=(1, 1), padding=(1, 1))\n",
       "      (conv3): Conv2d(64, 64, kernel_size=(3, 3), stride=(1, 1), padding=(1, 1))\n",
       "      (relu): ReLU(inplace)\n",
       "      (bn): BatchNorm2d(64, eps=1e-05, momentum=0.1, affine=True, track_running_stats=True)\n",
       "    )\n",
       "    (4): BasicBlock(\n",
       "      (conv1): Conv2d(64, 64, kernel_size=(2, 2), stride=(2, 2), padding=(1, 1))\n",
       "      (conv2): Conv2d(64, 64, kernel_size=(3, 3), stride=(1, 1), padding=(1, 1))\n",
       "      (conv3): Conv2d(64, 64, kernel_size=(3, 3), stride=(1, 1), padding=(1, 1))\n",
       "      (relu): ReLU(inplace)\n",
       "      (bn): BatchNorm2d(64, eps=1e-05, momentum=0.1, affine=True, track_running_stats=True)\n",
       "    )\n",
       "  )\n",
       "  (pool_h): MaxPool2d(kernel_size=(1, 4), stride=(1, 4), padding=0, dilation=1, ceil_mode=False)\n",
       "  (pool_v): MaxPool2d(kernel_size=(4, 1), stride=(4, 1), padding=0, dilation=1, ceil_mode=False)\n",
       "  (fc_h): Linear(in_features=256, out_features=16, bias=True)\n",
       "  (fc_v): Linear(in_features=256, out_features=16, bias=True)\n",
       "  (fc): Linear(in_features=32, out_features=4, bias=True)\n",
       ")"
      ]
     },
     "execution_count": 11,
     "metadata": {},
     "output_type": "execute_result"
    }
   ],
   "source": [
    "model = BBModel(BasicBlock, 5)\n",
    "model"
   ]
  },
  {
   "cell_type": "code",
   "execution_count": null,
   "metadata": {},
   "outputs": [],
   "source": [
    "criterion = nn.MSELoss()\n",
    "optimizer = op"
   ]
  }
 ],
 "metadata": {
  "kernelspec": {
   "display_name": "Python 3",
   "language": "python",
   "name": "python3"
  },
  "language_info": {
   "codemirror_mode": {
    "name": "ipython",
    "version": 3
   },
   "file_extension": ".py",
   "mimetype": "text/x-python",
   "name": "python",
   "nbconvert_exporter": "python",
   "pygments_lexer": "ipython3",
   "version": "3.6.8"
  }
 },
 "nbformat": 4,
 "nbformat_minor": 2
}
